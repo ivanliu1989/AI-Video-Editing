{
 "cells": [
  {
   "cell_type": "code",
   "execution_count": 5,
   "metadata": {},
   "outputs": [],
   "source": [
    "import cv2\n",
    "import time\n",
    "# cap = cv2.VideoCapture(0)\n",
    "\n",
    "# width = int(cap.get(cv2.CAP_PROP_FRAME_WIDTH)) # 1080.0\n",
    "# height = int(cap.get(cv2.CAP_PROP_FRAME_HEIGHT)) # 720.0\n",
    "\n",
    "# # Windows -- *'DIVX'\n",
    "# # MAC / Linux -- *'XVID'\n",
    "# writer = cv2.VideoWriter('../video/example.mp4', cv2.VideoWriter_fourcc(*'DIVX'),30)\n",
    "\n",
    "# while True:\n",
    "    \n",
    "#     ret, frame = cap.read()\n",
    "    \n",
    "#     # Operations (Drawing)\n",
    "#     writer.write(frame)\n",
    "    \n",
    "#     gray = cv2.cvtColor(frame, cv2.COLOR_BGR2GRAY)\n",
    "    \n",
    "#     cv2.imshow('frame', gray)\n",
    "    \n",
    "#     if cv2.waitKey(1) & 0xFF == ord('q'):\n",
    "#         break\n",
    "        \n",
    "# cap.release()\n",
    "# cv2.destroyAllWindows()"
   ]
  },
  {
   "cell_type": "code",
   "execution_count": 6,
   "metadata": {},
   "outputs": [],
   "source": [
    "cap = cv2.VideoCapture('../video/1541847381826.mp4')\n",
    "\n",
    "if cap.isOpened() == False:\n",
    "    print('ERROR FILE NOT FOUND OR WRONG CODEC USED!')\n",
    "    \n",
    "while cap.isOpened():\n",
    "    \n",
    "    ret, frame = cap.read()\n",
    "    \n",
    "    if ret == True:\n",
    "        \n",
    "        # Writer 20 FPS\n",
    "#         time.sleep(1/20)\n",
    "        \n",
    "        cv2.imshow('frame', frame)\n",
    "        \n",
    "        if cv2.waitKey(10) & 0xFF == ord('q'):\n",
    "            break\n",
    "    else:\n",
    "        break\n",
    "        \n",
    "cap.release()\n",
    "cv2.destroyAllWindows()"
   ]
  },
  {
   "cell_type": "code",
   "execution_count": null,
   "metadata": {},
   "outputs": [],
   "source": []
  }
 ],
 "metadata": {
  "kernelspec": {
   "display_name": "Python 3",
   "language": "python",
   "name": "python3"
  },
  "language_info": {
   "codemirror_mode": {
    "name": "ipython",
    "version": 3
   },
   "file_extension": ".py",
   "mimetype": "text/x-python",
   "name": "python",
   "nbconvert_exporter": "python",
   "pygments_lexer": "ipython3",
   "version": "3.6.6"
  }
 },
 "nbformat": 4,
 "nbformat_minor": 2
}
